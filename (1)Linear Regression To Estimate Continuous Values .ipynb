{
 "cells": [
  {
   "cell_type": "code",
   "execution_count": 1,
   "metadata": {
    "collapsed": true
   },
   "outputs": [],
   "source": [
    "#importing important functions\n",
    "import matplotlib.pyplot as plt\n",
    "from sklearn import datasets\n",
    "from sklearn import metrics\n",
    "from sklearn.model_selection import train_test_split\n",
    "from sklearn.linear_model import LinearRegression"
   ]
  },
  {
   "cell_type": "code",
   "execution_count": 2,
   "metadata": {
    "collapsed": true
   },
   "outputs": [],
   "source": [
    "boston = datasets.load_boston()"
   ]
  },
  {
   "cell_type": "code",
   "execution_count": 3,
   "metadata": {},
   "outputs": [
    {
     "data": {
      "text/plain": [
       "dict_keys(['data', 'target', 'feature_names', 'DESCR'])"
      ]
     },
     "execution_count": 3,
     "metadata": {},
     "output_type": "execute_result"
    }
   ],
   "source": [
    "#Columns\n",
    "boston.keys()"
   ]
  },
  {
   "cell_type": "code",
   "execution_count": 4,
   "metadata": {},
   "outputs": [
    {
     "data": {
      "text/plain": [
       "(506, 13)"
      ]
     },
     "execution_count": 4,
     "metadata": {},
     "output_type": "execute_result"
    }
   ],
   "source": [
    "#Number of Rows and Columns\n",
    "boston.data.shape"
   ]
  },
  {
   "cell_type": "code",
   "execution_count": 5,
   "metadata": {
    "collapsed": true
   },
   "outputs": [],
   "source": [
    "X=boston.data\n",
    "y=boston.target"
   ]
  },
  {
   "cell_type": "code",
   "execution_count": 6,
   "metadata": {
    "collapsed": true
   },
   "outputs": [],
   "source": [
    "#Splitting Dataset into Train(70%) Test(30%)\n",
    "X_train,X_test,y_train,y_test = train_test_split(X, y, test_size=0.30, random_state=42)"
   ]
  },
  {
   "cell_type": "code",
   "execution_count": 7,
   "metadata": {},
   "outputs": [
    {
     "data": {
      "text/plain": [
       "LinearRegression(copy_X=True, fit_intercept=True, n_jobs=1, normalize=False)"
      ]
     },
     "execution_count": 7,
     "metadata": {},
     "output_type": "execute_result"
    }
   ],
   "source": [
    "#Training Linear Regression Model\n",
    "lrmodel=LinearRegression()\n",
    "lrmodel.fit(X_train,y_train)"
   ]
  },
  {
   "cell_type": "code",
   "execution_count": 8,
   "metadata": {
    "collapsed": true
   },
   "outputs": [],
   "source": [
    "pred=lrmodel.predict(X_test)"
   ]
  },
  {
   "cell_type": "code",
   "execution_count": 9,
   "metadata": {},
   "outputs": [
    {
     "name": "stdout",
     "output_type": "stream",
     "text": [
      "[ 28.65507152  36.50208976  15.41877538  25.4123428   18.84504144\n",
      "  23.15193132  17.39045794  14.07068504  23.04106392  20.5997909\n",
      "  24.82848981  18.52972656  -6.89338718  21.80647623  19.23044706\n",
      "  26.18284059  20.28099565   5.61147028  40.44518211  17.57213704\n",
      "  27.44750834  30.17592819  10.92939394  24.0192381   18.06277152\n",
      "  15.93524273  23.13784817  14.49181123  22.33889889  19.32732276\n",
      "  22.1740459   25.19724098  25.31414125  18.51391365  16.60898647\n",
      "  17.48281643  30.95248869  20.19196715  23.90566388  24.87331497\n",
      "  13.93612301  31.82414012  42.56492347  17.62944481  27.02392519\n",
      "  17.1891161   13.79929973  26.10739476  20.31403576  30.09296805\n",
      "  21.31686534  34.1606385   15.59905068  26.11282476  39.31618827\n",
      "  22.99094172  18.95021816  33.05721471  24.85373006  12.91490043\n",
      "  22.67333429  30.795732    31.63743635  16.28548951  21.06900792\n",
      "  16.58193817  20.35778853  26.16063538  31.07034018  11.92085251\n",
      "  20.42923588  27.56094421  10.91352725  16.82098422  23.93711194\n",
      "   5.29210616  21.43740732  41.33305336  18.21893428   9.48264107\n",
      "  21.20620501  12.93525129  21.65334979   9.38479416  23.06686108\n",
      "  31.95534438  19.13384002  25.6021355   29.36066738  20.13138624\n",
      "  25.57758825   5.39715449  20.23556811  15.19214922  14.05048003\n",
      "  20.9132413   24.82656993  -0.52593335  13.64493211  15.63961623\n",
      "  22.07236665  24.64857411  10.73654066  19.68977492  23.63901554\n",
      "  12.01464722  18.48165363  25.5276787   20.93330297  24.69739423\n",
      "   7.5231328   18.97645418  21.94071123  27.22854012  32.1835697\n",
      "  15.2348175   34.38645451  12.94934719  21.02042602  28.58000839\n",
      "  15.86443974  24.85114927   3.3642571   23.91283464  25.82194826\n",
      "  23.11524492  25.33380469  33.35827815  20.55956265  38.47579735\n",
      "  13.96797115  25.22126284  17.80760011  20.63687644   9.78921616\n",
      "  21.03711982  22.33710989  32.3250267   31.49101355  15.4640246\n",
      "  16.85943025  28.99627253  24.96236453  16.73903899   6.13348115\n",
      "  26.66907289  23.32674936  17.39294099  13.38214192  39.97144315\n",
      "  16.63001938  18.27952576]\n"
     ]
    }
   ],
   "source": [
    "print(pred)"
   ]
  },
  {
   "cell_type": "code",
   "execution_count": 10,
   "metadata": {},
   "outputs": [
    {
     "data": {
      "image/png": "[encoded data removed]",
      "text/plain": [
       "<matplotlib.figure.Figure at 0x1dd8b6340f0>"
      ]
     },
     "metadata": {},
     "output_type": "display_data"
    }
   ],
   "source": [
    "#Plotting Actual Prices Vs Predicted Prices\n",
    "plt.scatter(y_test,pred)\n",
    "plt.xlabel(\"Actual prices\")\n",
    "plt.ylabel(\"Predicted Prices\")\n",
    "plt.show()"
   ]
  },
  {
   "cell_type": "code",
   "execution_count": 11,
   "metadata": {},
   "outputs": [
    {
     "name": "stdout",
     "output_type": "stream",
     "text": [
      "0.710920358633\n"
     ]
    }
   ],
   "source": [
    "#R Squared Score, Cofficient of Determination  \n",
    "print(lrmodel.score(X_test,y_test))"
   ]
  },
  {
   "cell_type": "code",
   "execution_count": 12,
   "metadata": {},
   "outputs": [
    {
     "name": "stdout",
     "output_type": "stream",
     "text": [
      "21.5402189439\n"
     ]
    }
   ],
   "source": [
    "#Mean Squared Error\n",
    "print(metrics.mean_squared_error(y_test,pred))"
   ]
  },
  {
   "cell_type": "code",
   "execution_count": null,
   "metadata": {
    "collapsed": true
   },
   "outputs": [],
   "source": []
  }
 ],
 "metadata": {
  "kernelspec": {
   "display_name": "Python 3",
   "language": "python",
   "name": "python3"
  },
  "language_info": {
   "codemirror_mode": {
    "name": "ipython",
    "version": 3
   },
   "file_extension": ".py",
   "mimetype": "text/x-python",
   "name": "python",
   "nbconvert_exporter": "python",
   "pygments_lexer": "ipython3",
   "version": "3.6.3"
  }
 },
 "nbformat": 4,
 "nbformat_minor": 2
}
